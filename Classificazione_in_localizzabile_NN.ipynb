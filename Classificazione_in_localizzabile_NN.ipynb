{
  "nbformat": 4,
  "nbformat_minor": 0,
  "metadata": {
    "colab": {
      "provenance": [],
      "include_colab_link": true
    },
    "kernelspec": {
      "name": "python3",
      "display_name": "Python 3"
    },
    "language_info": {
      "name": "python"
    },
    "accelerator": "GPU",
    "gpuClass": "standard"
  },
  "cells": [
    {
      "cell_type": "markdown",
      "metadata": {
        "id": "view-in-github",
        "colab_type": "text"
      },
      "source": [
        "<a href=\"https://colab.research.google.com/github/ematteli/VisionProject/blob/main/Classificazione_in_localizzabile_NN.ipynb\" target=\"_parent\"><img src=\"https://colab.research.google.com/assets/colab-badge.svg\" alt=\"Open In Colab\"/></a>"
      ]
    },
    {
      "cell_type": "markdown",
      "source": [
        "# Usiamo ResNet50 per classificare le immagini in localizzabili oppure no"
      ],
      "metadata": {
        "id": "y9h03PSsOFFd"
      }
    },
    {
      "cell_type": "code",
      "source": [
        "import os\n",
        "import sys\n",
        "from pathlib import Path\n",
        "\n",
        "# with this line we can check if we are in colab or not\n",
        "in_colab = 'google.colab' in sys.modules\n",
        "print(\"are we in Colab?:\",in_colab)\n",
        "\n",
        "cwd = Path(os.getcwd())\n",
        "if in_colab:\n",
        "    from google.colab import drive\n",
        "    drive.mount('/gdrive')\n",
        "    !pip install -q condacolab\n",
        "    import condacolab\n",
        "    condacolab.install()\n",
        "    os.chdir('/gdrive/MyDrive/GeoEstimation')\n",
        "    \n",
        "else:\n",
        "    #our defult wd in local should be Vision_Project\n",
        "    if str(cwd)[-14:] == 'Vision_Project':\n",
        "        os.chdir(cwd / 'GeoEstimation')\n",
        "    sys.path.append(cwd / 'GeoEstimation')"
      ],
      "metadata": {
        "colab": {
          "base_uri": "https://localhost:8080/"
        },
        "id": "qve3sn1MzJ09",
        "outputId": "77dccb6f-842e-41a9-a2f1-9bb7dbb8bf30"
      },
      "execution_count": 1,
      "outputs": [
        {
          "output_type": "stream",
          "name": "stdout",
          "text": [
            "are we in Colab?: True\n",
            "Drive already mounted at /gdrive; to attempt to forcibly remount, call drive.mount(\"/gdrive\", force_remount=True).\n",
            "\u001b[33mWARNING: Running pip as the 'root' user can result in broken permissions and conflicting behaviour with the system package manager. It is recommended to use a virtual environment instead: https://pip.pypa.io/warnings/venv\u001b[0m\u001b[33m\n",
            "\u001b[0m✨🍰✨ Everything looks OK!\n"
          ]
        }
      ]
    },
    {
      "cell_type": "code",
      "source": [
        "from tensorflow.keras.datasets import cifar10\n",
        "from tensorflow.keras.applications.resnet50 import preprocess_input\n",
        "from tensorflow.keras.utils import to_categorical\n",
        "from tensorflow.keras import Input\n",
        "from tensorflow.keras.applications import ResNet50\n",
        "from tensorflow.keras.optimizers import SGD, Adam\n",
        "from tensorflow.keras.models import Sequential\n",
        "from tensorflow.keras.layers import Flatten, Dense, Dropout\n",
        "\n",
        "from tensorflow.keras.preprocessing import image\n",
        "from tensorflow.keras.preprocessing.image import img_to_array\n",
        "from tensorflow.keras.applications.resnet50 import preprocess_input\n",
        "from tensorflow.keras.applications.imagenet_utils import decode_predictions\n",
        "\n",
        "import matplotlib.pyplot as plt\n",
        "import pandas as pd\n",
        "import numpy as np\n",
        "\n",
        "from sklearn.model_selection import train_test_split\n",
        "from sklearn.metrics import accuracy_score\n",
        "\n",
        "import os\n",
        "import sys\n",
        "from pathlib import Path\n",
        "from PIL import Image\n",
        "from numpy import asarray\n",
        "import multiprocessing as mp"
      ],
      "metadata": {
        "id": "Yp3uAoEq-WML"
      },
      "execution_count": 2,
      "outputs": []
    },
    {
      "cell_type": "code",
      "execution_count": null,
      "metadata": {
        "id": "C3OV84r9zGDM"
      },
      "outputs": [],
      "source": [
        "dataset_test = pd.read_csv(\"/gdrive/MyDrive/GeoEstimation/resources/im2gps3k_places365_classified.csv\").dropna()"
      ]
    },
    {
      "cell_type": "code",
      "source": [
        "# 4k dataset for the training\n",
        "dataset = pd.read_csv(\"/gdrive/MyDrive/GeoEstimation/resources/yfcc4k.csv\").dropna()\n",
        "indexNames = dataset[ dataset['LOC'] == 7 ].index\n",
        "# Delete these row indexes from dataFrame\n",
        "dataset.drop(indexNames , inplace=True)\n",
        "wrong_row = dataset[dataset['IMG_ID'] == '2902900480(1).jpg'].index\n",
        "dataset.drop(wrong_row, inplace=True)\n",
        "set(dataset['LOC'])"
      ],
      "metadata": {
        "id": "I50nfkR5YO02",
        "colab": {
          "base_uri": "https://localhost:8080/"
        },
        "outputId": "d90e9edd-017a-4562-f7cc-996d91fa414a"
      },
      "execution_count": null,
      "outputs": [
        {
          "output_type": "execute_result",
          "data": {
            "text/plain": [
              "{0.0, 1.0, 2.0}"
            ]
          },
          "metadata": {},
          "execution_count": 4
        }
      ]
    },
    {
      "cell_type": "code",
      "source": [
        "images_test = [\"/gdrive/MyDrive/GeoEstimation/resources/images/im2gps3k/{}\".format(img) for img in dataset['IMG_ID']]"
      ],
      "metadata": {
        "id": "05gL7vba_C47"
      },
      "execution_count": null,
      "outputs": []
    },
    {
      "cell_type": "code",
      "source": [
        "# 4k dataset for the training\n",
        "images = [\"/gdrive/MyDrive/GeoEstimation/resources/images/yfcc4k/{}\".format(img) for img in dataset['IMG_ID']]"
      ],
      "metadata": {
        "id": "3Gd8ILHAZZT9"
      },
      "execution_count": null,
      "outputs": []
    },
    {
      "cell_type": "code",
      "source": [
        "#images = [\"/gdrive/MyDrive/GeoEstimation/resources/images/im2gps3k/{}\".format(img) for img in dataset['IMG_ID']]\n",
        "#img_all = [Image.open(image) for image in images]\n",
        "#img_data = [asarray(img) for img in img_all]"
      ],
      "metadata": {
        "id": "q1prIQSh_rCw"
      },
      "execution_count": null,
      "outputs": []
    },
    {
      "cell_type": "code",
      "source": [
        "# a function to load all the images in an array format in img_array\n",
        "# other \"easier solutions\" were really slow, this works fine\n",
        "import tensorflow as tf\n",
        "from tqdm import tqdm\n",
        "tf.config.set_visible_devices([], 'GPU')\n",
        "\n",
        "def load_image(image_path):\n",
        "    with Image.open(image_path) as img:\n",
        "        img = img.resize((256, 256))\n",
        "        return np.asarray(img)\n",
        "\n",
        "# Crea una pool di processi\n",
        "with mp.Pool() as pool:\n",
        "  # Carica le immagini in parallelo\n",
        "  images = tqdm([\"/gdrive/MyDrive/GeoEstimation/resources/images/yfcc4k/{}\".format(img) for img in dataset['IMG_ID']])\n",
        "  img_data = pool.map(load_image, images)\n",
        "\n",
        "# Crea un array multidimensionale a partire dalla lista di array numpy\n",
        "img_array = np.stack(img_data)\n"
      ],
      "metadata": {
        "id": "TU6uhK1fBCvL",
        "colab": {
          "base_uri": "https://localhost:8080/"
        },
        "outputId": "48a7761b-461d-4794-9c90-d4b51fd216c4"
      },
      "execution_count": null,
      "outputs": [
        {
          "output_type": "stream",
          "name": "stderr",
          "text": [
            "100%|██████████| 4368/4368 [00:27<00:00, 161.01it/s]\n"
          ]
        }
      ]
    },
    {
      "cell_type": "code",
      "source": [
        "np.save(fout.npy, img_array)"
      ],
      "metadata": {
        "id": "bFDNmX9rOsg0"
      },
      "execution_count": null,
      "outputs": []
    },
    {
      "cell_type": "code",
      "source": [
        "fout = '/gdrive/MyDrive/GeoEstimation/checkpoints-ourResNet/images4k_array.npy'\n",
        "np.save(fout, img_array)"
      ],
      "metadata": {
        "id": "z0uAFvvBMcAe"
      },
      "execution_count": null,
      "outputs": []
    },
    {
      "cell_type": "code",
      "source": [
        "# load\n",
        "fout = '/gdrive/MyDrive/GeoEstimation/checkpoints-ourResNet/images4k_array.npy'\n",
        "img_array = np.load(fout)"
      ],
      "metadata": {
        "id": "_K2N9dBjPP5I"
      },
      "execution_count": null,
      "outputs": []
    },
    {
      "cell_type": "code",
      "source": [
        "# a function to load all the images in an array format in img_array\n",
        "# other \"easier solutions\" were really slow, this works fine\n",
        "\n",
        "# test set\n",
        "\n",
        "import tensorflow as tf\n",
        "tf.config.set_visible_devices([], 'GPU')\n",
        "\n",
        "# Crea una pool di processi\n",
        "with mp.Pool() as pool:\n",
        "  # Carica le immagini in parallelo\n",
        "  images_test = tqdm([\"/gdrive/MyDrive/GeoEstimation/resources/images/im2gps3k/{}\".format(img) for img in dataset_test['IMG_ID']])\n",
        "  img_data_test = pool.map(load_image, images_test)\n",
        "\n",
        "# Crea un array multidimensionale a partire dalla lista di array numpy\n",
        "img_array_test = np.stack(img_data_test)"
      ],
      "metadata": {
        "colab": {
          "base_uri": "https://localhost:8080/"
        },
        "id": "UIu_I23D8iOl",
        "outputId": "2e4aa946-d8ad-4e6c-f2c4-32cf7da3f1c0"
      },
      "execution_count": null,
      "outputs": [
        {
          "output_type": "stream",
          "name": "stderr",
          "text": [
            "100%|██████████| 2997/2997 [03:35<00:00, 13.88it/s]\n"
          ]
        }
      ]
    },
    {
      "cell_type": "code",
      "source": [
        "fout2 = '/gdrive/MyDrive/GeoEstimation/checkpoints-ourResNet/images_test3k_array.npy'\n",
        "np.save(fout2, img_array_test)"
      ],
      "metadata": {
        "id": "Ap5EtVHMMcmA"
      },
      "execution_count": null,
      "outputs": []
    },
    {
      "cell_type": "code",
      "source": [
        "# load\n",
        "fout2 = '/gdrive/MyDrive/GeoEstimation/checkpoints-ourResNet/images_test3k_array.npy'\n",
        "img_array_test = np.load(fout2)"
      ],
      "metadata": {
        "id": "-daND3qaPWn2"
      },
      "execution_count": null,
      "outputs": []
    },
    {
      "cell_type": "code",
      "source": [
        "# now we can re-set the GPU\n",
        "import tensorflow as tf\n",
        "tf.config.set_visible_devices(tf.config.list_physical_devices('GPU')[0], 'GPU')"
      ],
      "metadata": {
        "id": "c5-5q0XnbdDQ"
      },
      "execution_count": null,
      "outputs": []
    },
    {
      "cell_type": "code",
      "source": [
        "# the labels\n",
        "label_array = np.array(dataset['LOC']).reshape((img_array.shape[0], 1))\n",
        "# the labels\n",
        "label_array_test = np.array(dataset_test['LOC']).reshape((img_array_test.shape[0], 1))"
      ],
      "metadata": {
        "id": "DHU3bHimG6BR"
      },
      "execution_count": null,
      "outputs": []
    },
    {
      "cell_type": "code",
      "source": [
        "labels_int = label_array.astype(int)\n",
        "\n",
        "# Conto gli zeri, gli uni e i due nell'array\n",
        "count = np.bincount(labels_int.flatten())\n",
        "\n",
        "# Stampo i risultati\n",
        "print(f\"Zeri: {count[0]}\")\n",
        "print(f\"Uni: {count[1]}\")\n",
        "print(f\"Due: {count[2]}\")"
      ],
      "metadata": {
        "colab": {
          "base_uri": "https://localhost:8080/"
        },
        "id": "4dYXWB-jHbdF",
        "outputId": "bfcabe5a-cfaf-490c-d69b-2ec0fcc89fe0"
      },
      "execution_count": null,
      "outputs": [
        {
          "output_type": "stream",
          "name": "stdout",
          "text": [
            "Zeri: 1821\n",
            "Uni: 768\n",
            "Due: 1779\n"
          ]
        }
      ]
    },
    {
      "cell_type": "code",
      "source": [
        "# train-test split\n",
        "# X_train, X_test, y_train, y_test = train_test_split(img_array, label_array, test_size=0.16, random_state=123)"
      ],
      "metadata": {
        "id": "wuVea11HH4Zn"
      },
      "execution_count": null,
      "outputs": []
    },
    {
      "cell_type": "code",
      "source": [
        "X_train = img_array\n",
        "y_train = label_array\n",
        "X_test = img_array_test\n",
        "y_test = label_array_test"
      ],
      "metadata": {
        "id": "swob5OS69Boe"
      },
      "execution_count": null,
      "outputs": []
    },
    {
      "cell_type": "code",
      "source": [
        "# processing data for one-hot encoding\n",
        "def preprocess_data(X, Y):\n",
        "  X_p = preprocess_input(X)\n",
        "  Y_p = to_categorical(Y, 3)\n",
        "  return X_p, Y_p"
      ],
      "metadata": {
        "id": "X8H8pyzrIaoo"
      },
      "execution_count": null,
      "outputs": []
    },
    {
      "cell_type": "code",
      "source": [
        "from sklearn.preprocessing import OneHotEncoder\n",
        "enc = OneHotEncoder(handle_unknown='ignore')\n",
        "y_test = enc.fit_transform(y_test).toarray()\n",
        "y_train = enc.fit_transform(y_train).toarray()"
      ],
      "metadata": {
        "id": "t01Xn_5eRU4z"
      },
      "execution_count": null,
      "outputs": []
    },
    {
      "cell_type": "code",
      "source": [
        "# this\n",
        "y_train = np.where(label_array != 0, 1, 0)\n",
        "y_test = np.where(label_array_test != 0, 1, 0)"
      ],
      "metadata": {
        "id": "8bzaGKTUUy2Z"
      },
      "execution_count": null,
      "outputs": []
    },
    {
      "cell_type": "code",
      "source": [
        "# one hot encoding applied both to train and test sets\n",
        "X_train, y_train = preprocess_data(X_train, y_train)\n",
        "X_test, y_test = preprocess_data(X_test, y_test)"
      ],
      "metadata": {
        "id": "flbQ9Dl7Iamj"
      },
      "execution_count": null,
      "outputs": []
    },
    {
      "cell_type": "code",
      "source": [
        "# the model\n",
        "input_t = Input(shape=(256, 256, 3))\n",
        "res_model = ResNet50(include_top=False, #resnet50\n",
        "                   weights='imagenet', #pretrained from imagenet\n",
        "                   input_tensor=input_t)"
      ],
      "metadata": {
        "id": "tIR_S__uIaeP"
      },
      "execution_count": null,
      "outputs": []
    },
    {
      "cell_type": "code",
      "source": [
        "# set all the layers not-trainable\n",
        "for layer in res_model.layers[:]:\n",
        "  layer.trainable = False"
      ],
      "metadata": {
        "id": "qki4H0z5IaZi"
      },
      "execution_count": null,
      "outputs": []
    },
    {
      "cell_type": "code",
      "source": [
        "# add trainable layers to performe the classification\n",
        "model = Sequential()\n",
        "model.add(res_model)\n",
        "model.add(tf.keras.layers.AveragePooling2D(pool_size=(2, 2), strides=(1, 1), padding='valid'))\n",
        "model.add(Flatten())\n",
        "model.add(Dropout(0.4))\n",
        "model.add(Dense(1, activation='sigmoid'))"
      ],
      "metadata": {
        "id": "u9G3W37jIaXk"
      },
      "execution_count": null,
      "outputs": []
    },
    {
      "cell_type": "code",
      "source": [
        "model.compile(loss='binary_crossentropy',\n",
        "              optimizer=SGD(learning_rate=0.05),\n",
        "              metrics=['accuracy'])\n",
        "model.summary()"
      ],
      "metadata": {
        "colab": {
          "base_uri": "https://localhost:8080/"
        },
        "id": "cjmR-FuSJ00l",
        "outputId": "43142ea0-77d4-400b-b5ac-18cc3af15438"
      },
      "execution_count": null,
      "outputs": [
        {
          "output_type": "stream",
          "name": "stdout",
          "text": [
            "Model: \"sequential\"\n",
            "_________________________________________________________________\n",
            " Layer (type)                Output Shape              Param #   \n",
            "=================================================================\n",
            " resnet50 (Functional)       (None, 8, 8, 2048)        23587712  \n",
            "                                                                 \n",
            " average_pooling2d (AverageP  (None, 7, 7, 2048)       0         \n",
            " ooling2D)                                                       \n",
            "                                                                 \n",
            " flatten (Flatten)           (None, 100352)            0         \n",
            "                                                                 \n",
            " dropout (Dropout)           (None, 100352)            0         \n",
            "                                                                 \n",
            " dense (Dense)               (None, 1)                 100353    \n",
            "                                                                 \n",
            "=================================================================\n",
            "Total params: 23,688,065\n",
            "Trainable params: 100,353\n",
            "Non-trainable params: 23,587,712\n",
            "_________________________________________________________________\n"
          ]
        }
      ]
    },
    {
      "cell_type": "code",
      "source": [
        "pip install pyyaml h5py"
      ],
      "metadata": {
        "id": "IIob72bLLPKf"
      },
      "execution_count": null,
      "outputs": []
    },
    {
      "cell_type": "code",
      "source": [
        "# checkpoints\n",
        "checkpoint_path = '/gdrive/MyDrive/GeoEstimation/checkpoints-ourResNet/training_1/cp.ckpt'\n",
        "checkpoint_dir = os.path.dirname(checkpoint_path)"
      ],
      "metadata": {
        "id": "sxn0GTXNI1UL"
      },
      "execution_count": null,
      "outputs": []
    },
    {
      "cell_type": "code",
      "source": [
        "# checkpoints and fit\n",
        "cp_callback = tf.keras.callbacks.ModelCheckpoint(filepath=checkpoint_path,\n",
        "                                                 save_weights_only=True,\n",
        "                                                 verbose=1)\n",
        "\n",
        "model.fit(X_train, y_train, batch_size=32, epochs=8, callbacks=[cp_callback], verbose=1)\n",
        "model.summary()"
      ],
      "metadata": {
        "colab": {
          "base_uri": "https://localhost:8080/"
        },
        "id": "LcUkjOXUI9g6",
        "outputId": "c088580f-d1ec-43b2-d8f2-df82f686aec9"
      },
      "execution_count": null,
      "outputs": [
        {
          "output_type": "stream",
          "name": "stdout",
          "text": [
            "Epoch 1/8\n",
            "137/137 [==============================] - ETA: 0s - loss: 66.3989 - accuracy: 0.7626\n",
            "Epoch 1: saving model to /gdrive/MyDrive/GeoEstimation/checkpoints-ourResNet/training_1/cp.ckpt\n",
            "137/137 [==============================] - 21s 129ms/step - loss: 66.3989 - accuracy: 0.7626\n",
            "Epoch 2/8\n",
            "137/137 [==============================] - ETA: 0s - loss: 29.7563 - accuracy: 0.8498\n",
            "Epoch 2: saving model to /gdrive/MyDrive/GeoEstimation/checkpoints-ourResNet/training_1/cp.ckpt\n",
            "137/137 [==============================] - 18s 128ms/step - loss: 29.7563 - accuracy: 0.8498\n",
            "Epoch 3/8\n",
            "137/137 [==============================] - ETA: 0s - loss: 15.4552 - accuracy: 0.9009\n",
            "Epoch 3: saving model to /gdrive/MyDrive/GeoEstimation/checkpoints-ourResNet/training_1/cp.ckpt\n",
            "137/137 [==============================] - 17s 125ms/step - loss: 15.4552 - accuracy: 0.9009\n",
            "Epoch 4/8\n",
            "137/137 [==============================] - ETA: 0s - loss: 13.9395 - accuracy: 0.9041\n",
            "Epoch 4: saving model to /gdrive/MyDrive/GeoEstimation/checkpoints-ourResNet/training_1/cp.ckpt\n",
            "137/137 [==============================] - 17s 126ms/step - loss: 13.9395 - accuracy: 0.9041\n",
            "Epoch 5/8\n",
            "137/137 [==============================] - ETA: 0s - loss: 6.8362 - accuracy: 0.9402\n",
            "Epoch 5: saving model to /gdrive/MyDrive/GeoEstimation/checkpoints-ourResNet/training_1/cp.ckpt\n",
            "137/137 [==============================] - 17s 125ms/step - loss: 6.8362 - accuracy: 0.9402\n",
            "Epoch 6/8\n",
            "137/137 [==============================] - ETA: 0s - loss: 7.1087 - accuracy: 0.9407\n",
            "Epoch 6: saving model to /gdrive/MyDrive/GeoEstimation/checkpoints-ourResNet/training_1/cp.ckpt\n",
            "137/137 [==============================] - 17s 127ms/step - loss: 7.1087 - accuracy: 0.9407\n",
            "Epoch 7/8\n",
            "137/137 [==============================] - ETA: 0s - loss: 4.1784 - accuracy: 0.9519\n",
            "Epoch 7: saving model to /gdrive/MyDrive/GeoEstimation/checkpoints-ourResNet/training_1/cp.ckpt\n",
            "137/137 [==============================] - 17s 127ms/step - loss: 4.1784 - accuracy: 0.9519\n",
            "Epoch 8/8\n",
            "137/137 [==============================] - ETA: 0s - loss: 4.0822 - accuracy: 0.9604\n",
            "Epoch 8: saving model to /gdrive/MyDrive/GeoEstimation/checkpoints-ourResNet/training_1/cp.ckpt\n",
            "137/137 [==============================] - 17s 126ms/step - loss: 4.0822 - accuracy: 0.9604\n",
            "Model: \"sequential_4\"\n",
            "_________________________________________________________________\n",
            " Layer (type)                Output Shape              Param #   \n",
            "=================================================================\n",
            " resnet50 (Functional)       (None, 8, 8, 2048)        23587712  \n",
            "                                                                 \n",
            " average_pooling2d_4 (Averag  (None, 7, 7, 2048)       0         \n",
            " ePooling2D)                                                     \n",
            "                                                                 \n",
            " flatten_4 (Flatten)         (None, 100352)            0         \n",
            "                                                                 \n",
            " dropout_4 (Dropout)         (None, 100352)            0         \n",
            "                                                                 \n",
            " dense_4 (Dense)             (None, 1)                 100353    \n",
            "                                                                 \n",
            "=================================================================\n",
            "Total params: 23,688,065\n",
            "Trainable params: 100,353\n",
            "Non-trainable params: 23,587,712\n",
            "_________________________________________________________________\n"
          ]
        }
      ]
    },
    {
      "cell_type": "code",
      "source": [
        "os.listdir(checkpoint_dir)"
      ],
      "metadata": {
        "colab": {
          "base_uri": "https://localhost:8080/"
        },
        "id": "6esE75wcOfC5",
        "outputId": "2725b867-a987-4e0f-b3a0-145e521b89e2"
      },
      "execution_count": null,
      "outputs": [
        {
          "output_type": "execute_result",
          "data": {
            "text/plain": [
              "['cp.ckpt.data-00000-of-00001', 'cp.ckpt.index', 'checkpoint']"
            ]
          },
          "metadata": {},
          "execution_count": 27
        }
      ]
    },
    {
      "cell_type": "code",
      "source": [
        "# test\n",
        "test_loss, test_acc = model.evaluate(X_test, y_test)"
      ],
      "metadata": {
        "colab": {
          "base_uri": "https://localhost:8080/"
        },
        "id": "P9nXGFQJI9cw",
        "outputId": "a8f8b84e-3a7d-42f1-d747-bb73128a1d84"
      },
      "execution_count": null,
      "outputs": [
        {
          "output_type": "stream",
          "name": "stdout",
          "text": [
            "94/94 [==============================] - 12s 117ms/step - loss: 53.7093 - accuracy: 0.8208\n"
          ]
        }
      ]
    },
    {
      "cell_type": "code",
      "source": [
        "from sklearn.metrics import plot_roc_curve"
      ],
      "metadata": {
        "id": "LH_tbeZgYGtQ"
      },
      "execution_count": null,
      "outputs": []
    },
    {
      "cell_type": "code",
      "source": [
        "model.predict(X_test)"
      ],
      "metadata": {
        "id": "0VR4KF8FI9ak",
        "colab": {
          "base_uri": "https://localhost:8080/"
        },
        "outputId": "4d619d6e-640f-4df0-e7b7-74ff2304e93f"
      },
      "execution_count": null,
      "outputs": [
        {
          "output_type": "stream",
          "name": "stdout",
          "text": [
            "94/94 [==============================] - 12s 120ms/step\n"
          ]
        },
        {
          "output_type": "execute_result",
          "data": {
            "text/plain": [
              "array([[1.],\n",
              "       [1.],\n",
              "       [0.],\n",
              "       ...,\n",
              "       [1.],\n",
              "       [0.],\n",
              "       [0.]], dtype=float32)"
            ]
          },
          "metadata": {},
          "execution_count": 54
        }
      ]
    },
    {
      "cell_type": "markdown",
      "source": [
        "## 4k + 3k as train set"
      ],
      "metadata": {
        "id": "1kgjVt12cBxz"
      }
    },
    {
      "cell_type": "code",
      "source": [
        "X = np.concatenate((img_array, img_array_test))\n",
        "y = np.concatenate((label_array, label_array_test))"
      ],
      "metadata": {
        "id": "fjBSh-HjcVzx"
      },
      "execution_count": null,
      "outputs": []
    },
    {
      "cell_type": "code",
      "source": [
        "# this\n",
        "y = np.where(y != 0, 1, 0)"
      ],
      "metadata": {
        "id": "kFJX4CChesQA"
      },
      "execution_count": null,
      "outputs": []
    },
    {
      "cell_type": "code",
      "source": [
        "# train-test split\n",
        "X_train, X_test, y_train, y_test = train_test_split(X, y, \n",
        "                                                    test_size=0.16, \n",
        "                                                    random_state=123)"
      ],
      "metadata": {
        "id": "qt-GRbCXcE6S"
      },
      "execution_count": null,
      "outputs": []
    },
    {
      "cell_type": "code",
      "source": [
        "cp_callback = tf.keras.callbacks.ModelCheckpoint(filepath=checkpoint_path,\n",
        "                                                 save_weights_only=True,\n",
        "                                                 verbose=1)\n",
        "\n",
        "model.fit(X_train, y_train, batch_size=32, epochs=10, callbacks=[cp_callback], verbose=1)\n",
        "model.summary()"
      ],
      "metadata": {
        "id": "MhMk0UNOdWxV",
        "outputId": "b217d8b3-b57c-454c-b478-ef9b9a204d91",
        "colab": {
          "base_uri": "https://localhost:8080/"
        }
      },
      "execution_count": null,
      "outputs": [
        {
          "output_type": "stream",
          "name": "stdout",
          "text": [
            "Epoch 1/10\n",
            "194/194 [==============================] - ETA: 0s - loss: 60.8832 - accuracy: 0.7627\n",
            "Epoch 1: saving model to /gdrive/MyDrive/GeoEstimation/checkpoints-ourResNet/training_1/cp.ckpt\n",
            "194/194 [==============================] - 36s 125ms/step - loss: 60.8832 - accuracy: 0.7627\n",
            "Epoch 2/10\n",
            "193/194 [============================>.] - ETA: 0s - loss: 34.9793 - accuracy: 0.8347\n",
            "Epoch 2: saving model to /gdrive/MyDrive/GeoEstimation/checkpoints-ourResNet/training_1/cp.ckpt\n",
            "194/194 [==============================] - 24s 121ms/step - loss: 34.9900 - accuracy: 0.8343\n",
            "Epoch 3/10\n",
            "193/194 [============================>.] - ETA: 0s - loss: 25.9774 - accuracy: 0.8640\n",
            "Epoch 3: saving model to /gdrive/MyDrive/GeoEstimation/checkpoints-ourResNet/training_1/cp.ckpt\n",
            "194/194 [==============================] - 24s 123ms/step - loss: 26.0041 - accuracy: 0.8640\n",
            "Epoch 4/10\n",
            "193/194 [============================>.] - ETA: 0s - loss: 21.4230 - accuracy: 0.8812\n",
            "Epoch 4: saving model to /gdrive/MyDrive/GeoEstimation/checkpoints-ourResNet/training_1/cp.ckpt\n",
            "194/194 [==============================] - 24s 126ms/step - loss: 21.4027 - accuracy: 0.8810\n",
            "Epoch 5/10\n",
            "193/194 [============================>.] - ETA: 0s - loss: 11.2428 - accuracy: 0.9165\n",
            "Epoch 5: saving model to /gdrive/MyDrive/GeoEstimation/checkpoints-ourResNet/training_1/cp.ckpt\n",
            "194/194 [==============================] - 24s 124ms/step - loss: 11.2299 - accuracy: 0.9164\n",
            "Epoch 6/10\n",
            "193/194 [============================>.] - ETA: 0s - loss: 7.5671 - accuracy: 0.9292\n",
            "Epoch 6: saving model to /gdrive/MyDrive/GeoEstimation/checkpoints-ourResNet/training_1/cp.ckpt\n",
            "194/194 [==============================] - 24s 124ms/step - loss: 7.5548 - accuracy: 0.9294\n",
            "Epoch 7/10\n",
            "194/194 [==============================] - ETA: 0s - loss: 5.5241 - accuracy: 0.9489\n",
            "Epoch 7: saving model to /gdrive/MyDrive/GeoEstimation/checkpoints-ourResNet/training_1/cp.ckpt\n",
            "194/194 [==============================] - 24s 126ms/step - loss: 5.5241 - accuracy: 0.9489\n",
            "Epoch 8/10\n",
            "193/194 [============================>.] - ETA: 0s - loss: 5.7764 - accuracy: 0.9456\n",
            "Epoch 8: saving model to /gdrive/MyDrive/GeoEstimation/checkpoints-ourResNet/training_1/cp.ckpt\n",
            "194/194 [==============================] - 24s 124ms/step - loss: 5.7671 - accuracy: 0.9457\n",
            "Epoch 9/10\n",
            "193/194 [============================>.] - ETA: 0s - loss: 4.2639 - accuracy: 0.9563\n",
            "Epoch 9: saving model to /gdrive/MyDrive/GeoEstimation/checkpoints-ourResNet/training_1/cp.ckpt\n",
            "194/194 [==============================] - 24s 124ms/step - loss: 4.2570 - accuracy: 0.9564\n",
            "Epoch 10/10\n",
            "193/194 [============================>.] - ETA: 0s - loss: 3.8115 - accuracy: 0.9582\n",
            "Epoch 10: saving model to /gdrive/MyDrive/GeoEstimation/checkpoints-ourResNet/training_1/cp.ckpt\n",
            "194/194 [==============================] - 24s 126ms/step - loss: 3.8054 - accuracy: 0.9583\n",
            "Model: \"sequential\"\n",
            "_________________________________________________________________\n",
            " Layer (type)                Output Shape              Param #   \n",
            "=================================================================\n",
            " resnet50 (Functional)       (None, 8, 8, 2048)        23587712  \n",
            "                                                                 \n",
            " average_pooling2d (AverageP  (None, 7, 7, 2048)       0         \n",
            " ooling2D)                                                       \n",
            "                                                                 \n",
            " flatten (Flatten)           (None, 100352)            0         \n",
            "                                                                 \n",
            " dropout (Dropout)           (None, 100352)            0         \n",
            "                                                                 \n",
            " dense (Dense)               (None, 1)                 100353    \n",
            "                                                                 \n",
            "=================================================================\n",
            "Total params: 23,688,065\n",
            "Trainable params: 100,353\n",
            "Non-trainable params: 23,587,712\n",
            "_________________________________________________________________\n"
          ]
        }
      ]
    },
    {
      "cell_type": "code",
      "source": [
        "test_loss, test_acc = model.evaluate(X_test, y_test)"
      ],
      "metadata": {
        "id": "71VGIBBDf47V",
        "outputId": "7f6c4f64-3e95-4a8b-ad77-9144bda3a057",
        "colab": {
          "base_uri": "https://localhost:8080/"
        }
      },
      "execution_count": null,
      "outputs": [
        {
          "output_type": "stream",
          "name": "stdout",
          "text": [
            "37/37 [==============================] - 6s 138ms/step - loss: 39.7302 - accuracy: 0.8338\n"
          ]
        }
      ]
    },
    {
      "cell_type": "markdown",
      "source": [
        "### load model"
      ],
      "metadata": {
        "id": "Tpw9iDhokM4P"
      }
    },
    {
      "cell_type": "code",
      "source": [
        "input_t = Input(shape=(256, 256, 3))\n",
        "res_model = ResNet50(include_top=False, #resnet50\n",
        "                   weights='imagenet', #pretrained from imagenet\n",
        "                   input_tensor=input_t)\n",
        "model = Sequential()\n",
        "model.add(res_model)\n",
        "model.add(tf.keras.layers.AveragePooling2D(pool_size=(2, 2), strides=(1, 1), padding='valid'))\n",
        "model.add(Flatten())\n",
        "model.add(Dropout(0.4))\n",
        "model.add(Dense(1, activation='sigmoid'))\n",
        "model.compile(loss='binary_crossentropy',\n",
        "              optimizer=SGD(learning_rate=0.05),\n",
        "              metrics=['accuracy'])\n",
        "model.summary()"
      ],
      "metadata": {
        "id": "3CK_YVlzhN5d",
        "outputId": "e7b91e79-061c-47c2-da9d-80c0823563e8",
        "colab": {
          "base_uri": "https://localhost:8080/"
        }
      },
      "execution_count": null,
      "outputs": [
        {
          "output_type": "stream",
          "name": "stdout",
          "text": [
            "Model: \"sequential_1\"\n",
            "_________________________________________________________________\n",
            " Layer (type)                Output Shape              Param #   \n",
            "=================================================================\n",
            " resnet50 (Functional)       (None, 8, 8, 2048)        23587712  \n",
            "                                                                 \n",
            " average_pooling2d_1 (Averag  (None, 7, 7, 2048)       0         \n",
            " ePooling2D)                                                     \n",
            "                                                                 \n",
            " flatten_1 (Flatten)         (None, 100352)            0         \n",
            "                                                                 \n",
            " dropout_1 (Dropout)         (None, 100352)            0         \n",
            "                                                                 \n",
            " dense_1 (Dense)             (None, 1)                 100353    \n",
            "                                                                 \n",
            "=================================================================\n",
            "Total params: 23,688,065\n",
            "Trainable params: 23,634,945\n",
            "Non-trainable params: 53,120\n",
            "_________________________________________________________________\n"
          ]
        }
      ]
    },
    {
      "cell_type": "code",
      "source": [
        "model.load_weights(checkpoint_path)"
      ],
      "metadata": {
        "id": "xLVPbM9_g9cf",
        "outputId": "06c20a62-0d4f-42c2-c287-b82639137b00",
        "colab": {
          "base_uri": "https://localhost:8080/"
        }
      },
      "execution_count": null,
      "outputs": [
        {
          "output_type": "execute_result",
          "data": {
            "text/plain": [
              "<tensorflow.python.checkpoint.checkpoint.CheckpointLoadStatus at 0x7f7e00372370>"
            ]
          },
          "metadata": {},
          "execution_count": 20
        }
      ]
    },
    {
      "cell_type": "code",
      "source": [
        "test_loss, test_acc = model.evaluate(X_test, y_test)"
      ],
      "metadata": {
        "id": "7l-tKol-hISe",
        "outputId": "74ce53fa-29d9-4774-eb39-8476f6d3fbcb",
        "colab": {
          "base_uri": "https://localhost:8080/"
        }
      },
      "execution_count": null,
      "outputs": [
        {
          "output_type": "stream",
          "name": "stdout",
          "text": [
            "37/37 [==============================] - 7s 118ms/step - loss: 39.7302 - accuracy: 0.8338\n"
          ]
        }
      ]
    },
    {
      "cell_type": "code",
      "source": [
        "model.predict(X_test).round()"
      ],
      "metadata": {
        "id": "eIbbCEMDjAtK",
        "outputId": "bf93cc3f-9673-4856-d10a-1da41ae4b6b4",
        "colab": {
          "base_uri": "https://localhost:8080/"
        }
      },
      "execution_count": null,
      "outputs": [
        {
          "output_type": "stream",
          "name": "stdout",
          "text": [
            "37/37 [==============================] - 4s 116ms/step\n"
          ]
        },
        {
          "output_type": "execute_result",
          "data": {
            "text/plain": [
              "array([[1.],\n",
              "       [1.],\n",
              "       [0.],\n",
              "       ...,\n",
              "       [0.],\n",
              "       [1.],\n",
              "       [0.]], dtype=float32)"
            ]
          },
          "metadata": {},
          "execution_count": 23
        }
      ]
    },
    {
      "cell_type": "markdown",
      "source": [
        "## Predict on the 22k"
      ],
      "metadata": {
        "id": "QQ9PucnK9rwR"
      }
    },
    {
      "cell_type": "markdown",
      "source": [
        "#### Chuncks"
      ],
      "metadata": {
        "id": "zAJSIJ2NrHIv"
      }
    },
    {
      "cell_type": "code",
      "source": [
        "import tensorflow as tf\n",
        "from tqdm import tqdm"
      ],
      "metadata": {
        "id": "qioFWVvjpeL3"
      },
      "execution_count": 3,
      "outputs": []
    },
    {
      "cell_type": "code",
      "source": [
        "dataset_25k = pd.read_csv(\"/gdrive/MyDrive/GeoEstimation/resources/data25k_places365.csv\").dropna()"
      ],
      "metadata": {
        "id": "u3UIsBEJoooG"
      },
      "execution_count": 7,
      "outputs": []
    },
    {
      "cell_type": "code",
      "source": [
        "def load_image(image_path):\n",
        "    with Image.open(image_path) as img:\n",
        "        img = img.resize((256, 256))\n",
        "        return np.asarray(img)"
      ],
      "metadata": {
        "id": "cJU7k4cjoomD"
      },
      "execution_count": 4,
      "outputs": []
    },
    {
      "cell_type": "code",
      "source": [
        "def load_chunck(chunck):\n",
        "  images_id = []\n",
        "  with mp.Pool() as pool:\n",
        "    # Carica le immagini in parallelo\n",
        "    chunck_load = tqdm([\"/gdrive/MyDrive/GeoEstimation/resources/images/new_data25k/{}\".format(img) for img in chunck['IMG_ID']])\n",
        "    chunck_data = pool.imap(load_image, chunck_load)\n",
        "    #images_id.append(img)\n",
        "\n",
        "  chunck_data = [img for img in chunck_data if len(img.shape) == 3 and img.shape[2] == 3]\n",
        "  # Crea un array multidimensionale a partire dalla lista di array numpy\n",
        "  chunck_array = np.stack(chunck_data)\n",
        "  return chunck_array"
      ],
      "metadata": {
        "id": "-mnJztWKoojb"
      },
      "execution_count": 5,
      "outputs": []
    },
    {
      "cell_type": "code",
      "source": [],
      "metadata": {
        "id": "DDDxgZDq8Yrt"
      },
      "execution_count": null,
      "outputs": []
    },
    {
      "cell_type": "code",
      "source": [
        "prova_ord = load_chunck(dataset_25k.iloc[0:1000,:])"
      ],
      "metadata": {
        "colab": {
          "base_uri": "https://localhost:8080/"
        },
        "id": "BRpqg7wW8Ypm",
        "outputId": "98f32117-c97b-448a-f0eb-d2f2f9019e09"
      },
      "execution_count": null,
      "outputs": [
        {
          "output_type": "stream",
          "name": "stderr",
          "text": [
            "  0%|          | 1/1000 [00:00<00:06, 165.66it/s]\n"
          ]
        }
      ]
    },
    {
      "cell_type": "code",
      "source": [],
      "metadata": {
        "id": "4z5GuuJF8Ynd"
      },
      "execution_count": null,
      "outputs": []
    },
    {
      "cell_type": "code",
      "source": [],
      "metadata": {
        "id": "xMDehViw8YlD"
      },
      "execution_count": null,
      "outputs": []
    },
    {
      "cell_type": "code",
      "source": [
        "chunck1_array = load_chunck(dataset_25k.iloc[0:3000,:])"
      ],
      "metadata": {
        "id": "mptJcowMoohW"
      },
      "execution_count": null,
      "outputs": []
    },
    {
      "cell_type": "code",
      "source": [
        "chunck2_array = load_chunck(dataset_25k.iloc[3000:6000,:])"
      ],
      "metadata": {
        "id": "Hcr9PQD_ooff"
      },
      "execution_count": null,
      "outputs": []
    },
    {
      "cell_type": "code",
      "source": [
        "chunck3_array = load_chunck(dataset_25k.iloc[6000:9000,:])"
      ],
      "metadata": {
        "id": "TTTfQJ9loodK"
      },
      "execution_count": null,
      "outputs": []
    },
    {
      "cell_type": "code",
      "source": [],
      "metadata": {
        "id": "50tvmeYkooat"
      },
      "execution_count": null,
      "outputs": []
    },
    {
      "cell_type": "code",
      "source": [
        "chuncks_three_array = np.concatenate([chunck1_array, chunck2_array, chunck3_array], axis=0)\n",
        "fout = '/gdrive/MyDrive/GeoEstimation/checkpoints-ourResNet/chuncks_three_array.npy'\n",
        "np.save(fout, chuncks_three_array)"
      ],
      "metadata": {
        "id": "w6XmxgOPpJZw"
      },
      "execution_count": null,
      "outputs": []
    },
    {
      "cell_type": "code",
      "source": [
        "chunck4_array = load_chunck(dataset_25k.iloc[9000:12000,:])"
      ],
      "metadata": {
        "id": "hIX9b7MUpJX9"
      },
      "execution_count": null,
      "outputs": []
    },
    {
      "cell_type": "code",
      "source": [
        "chunck5_array = load_chunck(dataset_25k.iloc[12000:15000,:])"
      ],
      "metadata": {
        "id": "5yyK92OjpJVl"
      },
      "execution_count": null,
      "outputs": []
    },
    {
      "cell_type": "code",
      "source": [
        "chunck6_array = load_chunck(dataset_25k.iloc[15000:18000,:])"
      ],
      "metadata": {
        "id": "Acy3lgnDpJTY"
      },
      "execution_count": null,
      "outputs": []
    },
    {
      "cell_type": "code",
      "source": [
        "chuncks_six_array = np.concatenate([chunck4_array, chunck5_array, chunck6_array], axis=0)\n",
        "fout = '/gdrive/MyDrive/GeoEstimation/checkpoints-ourResNet/chuncks_six_array.npy'\n",
        "np.save(fout, chuncks_six_array)"
      ],
      "metadata": {
        "id": "UnB2cE7rpiQF"
      },
      "execution_count": null,
      "outputs": []
    },
    {
      "cell_type": "code",
      "source": [
        "chunck7_array = load_chunck(dataset_25k.iloc[18000:20000,:])"
      ],
      "metadata": {
        "colab": {
          "base_uri": "https://localhost:8080/"
        },
        "id": "TTaU9zc1piOj",
        "outputId": "cc6db78c-3fb5-40a9-8b20-dd918e3da12b"
      },
      "execution_count": 38,
      "outputs": [
        {
          "output_type": "stream",
          "name": "stderr",
          "text": [
            "100%|██████████| 2000/2000 [00:12<00:00, 156.19it/s]\n"
          ]
        }
      ]
    },
    {
      "cell_type": "code",
      "source": [
        "chunck8_array = load_chunck(dataset_25k.iloc[20000:,:])"
      ],
      "metadata": {
        "colab": {
          "base_uri": "https://localhost:8080/"
        },
        "id": "dnUvkOWFpiMK",
        "outputId": "1033872d-dee8-4210-bb2f-f8a1ff2a84d0"
      },
      "execution_count": 39,
      "outputs": [
        {
          "output_type": "stream",
          "name": "stderr",
          "text": [
            "100%|██████████| 2354/2354 [00:12<00:00, 187.25it/s]\n"
          ]
        }
      ]
    },
    {
      "cell_type": "code",
      "source": [
        "chuncks_eight_array = np.concatenate([chunck7_array, chunck8_array], axis=0)\n",
        "fout = '/gdrive/MyDrive/GeoEstimation/checkpoints-ourResNet/chuncks_eight_array.npy'\n",
        "np.save(fout, chuncks_eight_array)"
      ],
      "metadata": {
        "id": "e9oRrDJBpiJy"
      },
      "execution_count": 40,
      "outputs": []
    },
    {
      "cell_type": "code",
      "source": [
        "fout3 = '/gdrive/MyDrive/GeoEstimation/checkpoints-ourResNet/chuncks_three_array.npy'\n",
        "fout6 = '/gdrive/MyDrive/GeoEstimation/checkpoints-ourResNet/chuncks_six_array.npy'\n",
        "fout8 = '/gdrive/MyDrive/GeoEstimation/checkpoints-ourResNet/chuncks_eight_array.npy'\n",
        "chunck_array_three = np.load(fout3)\n",
        "chunck_array_six = np.load(fout6)\n",
        "chunck_array_eight = np.load(fout8)"
      ],
      "metadata": {
        "id": "Qwo4649aptMt"
      },
      "execution_count": null,
      "outputs": []
    },
    {
      "cell_type": "code",
      "source": [
        "img_array22k = np.concatenate([chunck_array_three, chunck_array_six, chunck_array_eight], axis=0)"
      ],
      "metadata": {
        "id": "E06hfMaPptKj"
      },
      "execution_count": null,
      "outputs": []
    },
    {
      "cell_type": "code",
      "source": [
        "fout = '/gdrive/MyDrive/GeoEstimation/checkpoints-ourResNet/img_array22k.npy'\n",
        "np.save(fout, img_array22k)"
      ],
      "metadata": {
        "id": "rGeRcMDLptIY"
      },
      "execution_count": null,
      "outputs": []
    },
    {
      "cell_type": "code",
      "source": [],
      "metadata": {
        "id": "l7LQL0gspy84"
      },
      "execution_count": null,
      "outputs": []
    },
    {
      "cell_type": "code",
      "source": [],
      "metadata": {
        "id": "mM2wL9SDpy6u"
      },
      "execution_count": null,
      "outputs": []
    },
    {
      "cell_type": "code",
      "source": [],
      "metadata": {
        "id": "khv-N2nkpy4j"
      },
      "execution_count": null,
      "outputs": []
    },
    {
      "cell_type": "markdown",
      "source": [
        "#### Load"
      ],
      "metadata": {
        "id": "XiMTv7XErKeE"
      }
    },
    {
      "cell_type": "code",
      "source": [
        "#dataset_25k = pd.read_csv(\"/gdrive/MyDrive/GeoEstimation/resources/data25k_places365.csv\").dropna()"
      ],
      "metadata": {
        "id": "7DQnoumU9qkH"
      },
      "execution_count": null,
      "outputs": []
    },
    {
      "cell_type": "code",
      "source": [
        "fout = '/gdrive/MyDrive/GeoEstimation/checkpoints-ourResNet/img_array22k.npy'\n",
        "img_array25k = np.load(fout)"
      ],
      "metadata": {
        "id": "qoNYT7VQ9qfr"
      },
      "execution_count": 2,
      "outputs": []
    },
    {
      "cell_type": "code",
      "source": [
        "#fout3 = '/gdrive/MyDrive/GeoEstimation/checkpoints-ourResNet/chuncks_three_array.npy'\n",
        "#fout6 = '/gdrive/MyDrive/GeoEstimation/checkpoints-ourResNet/chuncks_six_array.npy'\n",
        "fout8 = '/gdrive/MyDrive/GeoEstimation/checkpoints-ourResNet/chuncks_eight_array.npy'\n",
        "#chunck_array_three = np.load(fout3)\n",
        "#chunck_array_six = np.load(fout6)\n",
        "chunck_array_eight = np.load(fout8)"
      ],
      "metadata": {
        "id": "pUolxf4QGkIW"
      },
      "execution_count": 64,
      "outputs": []
    },
    {
      "cell_type": "code",
      "source": [
        "chunck_array_three.shape"
      ],
      "metadata": {
        "colab": {
          "base_uri": "https://localhost:8080/"
        },
        "id": "NcleUMyGrtvi",
        "outputId": "9b2f0a00-cf92-4c51-a299-9393d4469eaa"
      },
      "execution_count": 51,
      "outputs": [
        {
          "output_type": "execute_result",
          "data": {
            "text/plain": [
              "(8969, 256, 256, 3)"
            ]
          },
          "metadata": {},
          "execution_count": 51
        }
      ]
    },
    {
      "cell_type": "code",
      "source": [
        "chunck_array_six.shape"
      ],
      "metadata": {
        "colab": {
          "base_uri": "https://localhost:8080/"
        },
        "id": "DLvHIroIr4NI",
        "outputId": "16a3bfe1-583f-4b4f-ca9f-a703c77b21b3"
      },
      "execution_count": 33,
      "outputs": [
        {
          "output_type": "execute_result",
          "data": {
            "text/plain": [
              "(8972, 256, 256, 3)"
            ]
          },
          "metadata": {},
          "execution_count": 33
        }
      ]
    },
    {
      "cell_type": "code",
      "source": [
        "chunck_array_eight.shape"
      ],
      "metadata": {
        "colab": {
          "base_uri": "https://localhost:8080/"
        },
        "id": "7THzjrNusFNa",
        "outputId": "88ea0f19-18f1-4911-95f9-ade1609a0e4e"
      },
      "execution_count": 42,
      "outputs": [
        {
          "output_type": "execute_result",
          "data": {
            "text/plain": [
              "(4334, 256, 256, 3)"
            ]
          },
          "metadata": {},
          "execution_count": 42
        }
      ]
    },
    {
      "cell_type": "code",
      "source": [
        "8969+8972+4334"
      ],
      "metadata": {
        "colab": {
          "base_uri": "https://localhost:8080/"
        },
        "id": "hh9ltENnsH5G",
        "outputId": "0e9e4fc3-e759-45f5-ae14-401ffc2c55cb"
      },
      "execution_count": 43,
      "outputs": [
        {
          "output_type": "execute_result",
          "data": {
            "text/plain": [
              "22275"
            ]
          },
          "metadata": {},
          "execution_count": 43
        }
      ]
    },
    {
      "cell_type": "code",
      "source": [
        "import tensorflow as tf\n",
        "tf.config.set_visible_devices(tf.config.list_physical_devices('GPU')[0], 'GPU')"
      ],
      "metadata": {
        "id": "_NUC64WbiG_u"
      },
      "execution_count": 65,
      "outputs": []
    },
    {
      "cell_type": "code",
      "source": [
        "input_t = Input(shape=(256, 256, 3))\n",
        "res_model = ResNet50(include_top=False, #resnet50\n",
        "                   weights='imagenet', #pretrained from imagenet\n",
        "                   input_tensor=input_t)\n",
        "model = Sequential()\n",
        "model.add(res_model)\n",
        "model.add(tf.keras.layers.AveragePooling2D(pool_size=(2, 2), strides=(1, 1), padding='valid'))\n",
        "model.add(Flatten())\n",
        "model.add(Dropout(0.4))\n",
        "model.add(Dense(1, activation='sigmoid'))\n",
        "model.compile(loss='binary_crossentropy',\n",
        "              optimizer=SGD(learning_rate=0.05),\n",
        "              metrics=['accuracy'])\n",
        "model.summary()"
      ],
      "metadata": {
        "id": "IbizTfyP9qdK",
        "colab": {
          "base_uri": "https://localhost:8080/"
        },
        "outputId": "a3d90166-5e8a-4792-92f8-8ac5a21e70e5"
      },
      "execution_count": 66,
      "outputs": [
        {
          "output_type": "stream",
          "name": "stdout",
          "text": [
            "Downloading data from https://storage.googleapis.com/tensorflow/keras-applications/resnet/resnet50_weights_tf_dim_ordering_tf_kernels_notop.h5\n",
            "94765736/94765736 [==============================] - 1s 0us/step\n",
            "Model: \"sequential\"\n",
            "_________________________________________________________________\n",
            " Layer (type)                Output Shape              Param #   \n",
            "=================================================================\n",
            " resnet50 (Functional)       (None, 8, 8, 2048)        23587712  \n",
            "                                                                 \n",
            " average_pooling2d (AverageP  (None, 7, 7, 2048)       0         \n",
            " ooling2D)                                                       \n",
            "                                                                 \n",
            " flatten (Flatten)           (None, 100352)            0         \n",
            "                                                                 \n",
            " dropout (Dropout)           (None, 100352)            0         \n",
            "                                                                 \n",
            " dense (Dense)               (None, 1)                 100353    \n",
            "                                                                 \n",
            "=================================================================\n",
            "Total params: 23,688,065\n",
            "Trainable params: 23,634,945\n",
            "Non-trainable params: 53,120\n",
            "_________________________________________________________________\n"
          ]
        }
      ]
    },
    {
      "cell_type": "code",
      "source": [
        "checkpoint_path = '/gdrive/MyDrive/GeoEstimation/checkpoints-ourResNet/training_1/cp.ckpt'"
      ],
      "metadata": {
        "id": "TZA_q8IGiw_Z"
      },
      "execution_count": 67,
      "outputs": []
    },
    {
      "cell_type": "code",
      "source": [
        "model.load_weights(checkpoint_path)"
      ],
      "metadata": {
        "id": "dAnMJxVCis0O",
        "colab": {
          "base_uri": "https://localhost:8080/"
        },
        "outputId": "84e42464-e180-41c5-9082-fba0003a10b2"
      },
      "execution_count": 68,
      "outputs": [
        {
          "output_type": "execute_result",
          "data": {
            "text/plain": [
              "<tensorflow.python.checkpoint.checkpoint.CheckpointLoadStatus at 0x7f78901702b0>"
            ]
          },
          "metadata": {},
          "execution_count": 68
        }
      ]
    },
    {
      "cell_type": "code",
      "source": [
        "y_pred25k = model.predict(chunck_array_eight)"
      ],
      "metadata": {
        "id": "7iHVgNbsizTm",
        "colab": {
          "base_uri": "https://localhost:8080/"
        },
        "outputId": "8f78024e-28bb-4432-865b-8e4fe2224302"
      },
      "execution_count": 70,
      "outputs": [
        {
          "output_type": "stream",
          "name": "stdout",
          "text": [
            "136/136 [==============================] - 24s 107ms/step\n"
          ]
        }
      ]
    },
    {
      "cell_type": "code",
      "source": [
        "fout = '/gdrive/MyDrive/GeoEstimation/checkpoints-ourResNet/y_pred25k_check8.npy'\n",
        "np.save(fout, y_pred25k)"
      ],
      "metadata": {
        "id": "qmjt7ttejcCW"
      },
      "execution_count": 71,
      "outputs": []
    },
    {
      "cell_type": "code",
      "source": [],
      "metadata": {
        "id": "FrEK2Dq8Ij1D"
      },
      "execution_count": null,
      "outputs": []
    },
    {
      "cell_type": "code",
      "source": [
        "fout3 = '/gdrive/MyDrive/GeoEstimation/checkpoints-ourResNet/y_pred25k_check3.npy'\n",
        "fout6 = '/gdrive/MyDrive/GeoEstimation/checkpoints-ourResNet/y_pred25k_check6.npy'\n",
        "fout8 = '/gdrive/MyDrive/GeoEstimation/checkpoints-ourResNet/y_pred25k_check8.npy'\n",
        "y3 = np.load(fout3)\n",
        "y6 = np.load(fout6)\n",
        "y8 = np.load(fout8)"
      ],
      "metadata": {
        "id": "pSmVFmOOIjvf"
      },
      "execution_count": 72,
      "outputs": []
    },
    {
      "cell_type": "code",
      "source": [
        "label22k = np.concatenate([y3, y6, y8], axis=0)"
      ],
      "metadata": {
        "id": "2mWkNwvKIsem"
      },
      "execution_count": 73,
      "outputs": []
    },
    {
      "cell_type": "code",
      "source": [
        "label22knew = (label22k>0.1).astype(int)"
      ],
      "metadata": {
        "id": "BHMU8M50J8dG"
      },
      "execution_count": 74,
      "outputs": []
    },
    {
      "cell_type": "code",
      "source": [
        "labels_int = label22knew\n",
        "\n",
        "# Conto gli zeri, gli uni e i due nell'array\n",
        "count = np.bincount(labels_int.flatten())\n",
        "\n",
        "# Stampo i risultati\n",
        "print(f\"Zeri: {count[0]}\")\n",
        "print(f\"Uni: {count[1]}\")\n",
        "#print(f\"Due: {count[2]}\")"
      ],
      "metadata": {
        "colab": {
          "base_uri": "https://localhost:8080/"
        },
        "id": "5yWDaSPCI_a_",
        "outputId": "b02be86f-f005-485f-b499-e0a1a35a3fdf"
      },
      "execution_count": 75,
      "outputs": [
        {
          "output_type": "stream",
          "name": "stdout",
          "text": [
            "Zeri: 8792\n",
            "Uni: 13483\n"
          ]
        }
      ]
    },
    {
      "cell_type": "code",
      "source": [
        "dataset_25k = pd.read_csv(\"/gdrive/MyDrive/GeoEstimation/resources/data25k_places365.csv\").dropna()"
      ],
      "metadata": {
        "id": "NlcJ1lRwJsCe"
      },
      "execution_count": 5,
      "outputs": []
    },
    {
      "cell_type": "code",
      "source": [
        "import os\n",
        "import pandas as pd\n",
        "from PIL import Image\n",
        "from multiprocessing import Pool, cpu_count\n",
        "from tqdm import tqdm\n",
        "\n",
        "def is_color(filename):\n",
        "    file_path = os.path.join(image_dir, filename)\n",
        "    with Image.open(file_path) as img:\n",
        "        img = np.asarray(img)\n",
        "        return (len(img.shape) == 3 and img.shape[2] == 3)\n",
        "\n",
        "def process_chunk(chunk):\n",
        "    chunk_images = []\n",
        "    for filename in chunk:\n",
        "        if filename.endswith(\".jpg\"):\n",
        "            if is_color(filename):\n",
        "                image_id = os.path.splitext(filename)[0]\n",
        "                chunk_images.append(image_id)\n",
        "    return chunk_images\n",
        "\n",
        "data_file = \"/gdrive/MyDrive/GeoEstimation/resources/data25k_places365.csv\"\n",
        "image_dir = \"/gdrive/MyDrive/GeoEstimation/resources/images/new_data25k\"\n",
        "\n",
        "data = pd.read_csv(data_file).dropna()\n",
        "\n",
        "image_filenames = os.listdir(image_dir)\n",
        "num_cpus = cpu_count()\n",
        "chunk_size = len(image_filenames) // num_cpus\n",
        "chunks = [image_filenames[i:i+chunk_size] for i in range(0, len(image_filenames), chunk_size)]\n",
        "\n",
        "with Pool(processes=num_cpus) as pool:\n",
        "    results = []\n",
        "    for chunk_result in tqdm(pool.imap(process_chunk, chunks), total=len(chunks)):\n",
        "        results.append(chunk_result)\n",
        "\n",
        "color_images = [id for chunk in results for id in chunk]\n",
        "data = data[data['IMG_ID'].isin(color_images)]\n"
      ],
      "metadata": {
        "colab": {
          "base_uri": "https://localhost:8080/"
        },
        "id": "H1Yw5MzJYPrS",
        "outputId": "6c3f6e40-5991-4bf7-b0b4-f1356bf09e41"
      },
      "execution_count": 52,
      "outputs": [
        {
          "output_type": "stream",
          "name": "stderr",
          "text": [
            "100%|██████████| 3/3 [02:56<00:00, 58.77s/it] \n"
          ]
        }
      ]
    },
    {
      "cell_type": "code",
      "source": [],
      "metadata": {
        "id": "CrTlHBLAwLEl"
      },
      "execution_count": null,
      "outputs": []
    },
    {
      "cell_type": "code",
      "source": [
        "color_imagesJPG = [color_image + '.jpg' for color_image in color_images]"
      ],
      "metadata": {
        "id": "vmFDioqiwLCw"
      },
      "execution_count": 56,
      "outputs": []
    },
    {
      "cell_type": "code",
      "source": [
        "#data = pd.read_csv(data_file).dropna()"
      ],
      "metadata": {
        "id": "iv2_VKTf0Wlp"
      },
      "execution_count": 61,
      "outputs": []
    },
    {
      "cell_type": "code",
      "source": [
        "data = data[data['IMG_ID'].isin(color_imagesJPG)]"
      ],
      "metadata": {
        "id": "_GA6wNDJwLA8"
      },
      "execution_count": 62,
      "outputs": []
    },
    {
      "cell_type": "code",
      "source": [
        "data['pred_LOC'] = label22knew"
      ],
      "metadata": {
        "id": "iviSwGC71_Rx"
      },
      "execution_count": 78,
      "outputs": []
    },
    {
      "cell_type": "code",
      "source": [
        "data"
      ],
      "metadata": {
        "colab": {
          "base_uri": "https://localhost:8080/",
          "height": 661
        },
        "id": "KwQOkNBixyGz",
        "outputId": "5c6c017d-f50a-49ff-bd42-3074c2dbafa9"
      },
      "execution_count": 79,
      "outputs": [
        {
          "output_type": "execute_result",
          "data": {
            "text/plain": [
              "       index                IMG_ID        AUTHOR        LAT         LON  \\\n",
              "0          0  45-77-3228511372.jpg  43008843@N00  46.778991   23.611207   \n",
              "1          1  2e-b5-4325164013.jpg  22489773@N02  40.445379  116.663990   \n",
              "2          2  68-42-2195251385.jpg  85976263@N00  47.469907   19.072952   \n",
              "3          3  87-7b-6786398493.jpg  70806177@N00  31.704666   35.206666   \n",
              "4          4  8b-a2-5663163551.jpg  46604778@N00  32.654696  -16.907958   \n",
              "...      ...                   ...           ...        ...         ...   \n",
              "22349  25595  17-76-4774603929.jpg  80547277@N00  45.484977 -123.972977   \n",
              "22350  25596  8c-76-6576441431.jpg  17373191@N00  41.765198  -74.161920   \n",
              "22351  25597  db-a5-2126931545.jpg   9456163@N05  29.422394  -98.488590   \n",
              "22352  25598  14-bf-2419255338.jpg  54177777@N00  37.563710 -122.513260   \n",
              "22353  25599  6e-64-3615351720.jpg  13542313@N00  41.501321  -81.690709   \n",
              "\n",
              "       S3_Label  S16_Label  S365_Label   Prob_indoor  Prob_natural  \\\n",
              "0             0          5          21  9.786990e-01      0.001071   \n",
              "1             2         14         201  1.687362e-02      0.366694   \n",
              "2             0          5         250  9.645445e-01      0.000001   \n",
              "3             0          5         169  9.125900e-01      0.005846   \n",
              "4             2         14         268  1.941495e-01      0.118745   \n",
              "...         ...        ...         ...           ...           ...   \n",
              "22349         2          7         116  3.012353e-02      0.461205   \n",
              "22350         2          9         340  1.525349e-02      0.482444   \n",
              "22351         1          6         277  2.456120e-02      0.783856   \n",
              "22352         1          6          48  7.339240e-07      0.999492   \n",
              "22353         2         10         170  1.165220e-01      0.007007   \n",
              "\n",
              "       Prob_urban                                                url  pred_LOC  \n",
              "0        0.020230  https://live.staticflickr.com/3451/3228511372_...         0  \n",
              "1        0.616432  https://live.staticflickr.com/4021/4325164013_...         1  \n",
              "2        0.035454  https://live.staticflickr.com/2246/2195251385_...         0  \n",
              "3        0.081565  https://live.staticflickr.com/7159/6786398493_...         1  \n",
              "4        0.687105  https://live.staticflickr.com/5268/5663163551_...         1  \n",
              "...           ...                                                ...       ...  \n",
              "22349    0.508672  https://live.staticflickr.com/4096/4774603929_...         0  \n",
              "22350    0.502303  https://live.staticflickr.com/7012/6576441431_...         1  \n",
              "22351    0.191583  https://live.staticflickr.com/2060/2126931545_...         1  \n",
              "22352    0.000508  https://live.staticflickr.com/2415/2419255338_...         0  \n",
              "22353    0.876471  https://live.staticflickr.com/2473/3615351720_...         1  \n",
              "\n",
              "[22275 rows x 13 columns]"
            ],
            "text/html": [
              "\n",
              "  <div id=\"df-94494429-4380-4a4e-a72b-249399e365bc\">\n",
              "    <div class=\"colab-df-container\">\n",
              "      <div>\n",
              "<style scoped>\n",
              "    .dataframe tbody tr th:only-of-type {\n",
              "        vertical-align: middle;\n",
              "    }\n",
              "\n",
              "    .dataframe tbody tr th {\n",
              "        vertical-align: top;\n",
              "    }\n",
              "\n",
              "    .dataframe thead th {\n",
              "        text-align: right;\n",
              "    }\n",
              "</style>\n",
              "<table border=\"1\" class=\"dataframe\">\n",
              "  <thead>\n",
              "    <tr style=\"text-align: right;\">\n",
              "      <th></th>\n",
              "      <th>index</th>\n",
              "      <th>IMG_ID</th>\n",
              "      <th>AUTHOR</th>\n",
              "      <th>LAT</th>\n",
              "      <th>LON</th>\n",
              "      <th>S3_Label</th>\n",
              "      <th>S16_Label</th>\n",
              "      <th>S365_Label</th>\n",
              "      <th>Prob_indoor</th>\n",
              "      <th>Prob_natural</th>\n",
              "      <th>Prob_urban</th>\n",
              "      <th>url</th>\n",
              "      <th>pred_LOC</th>\n",
              "    </tr>\n",
              "  </thead>\n",
              "  <tbody>\n",
              "    <tr>\n",
              "      <th>0</th>\n",
              "      <td>0</td>\n",
              "      <td>45-77-3228511372.jpg</td>\n",
              "      <td>43008843@N00</td>\n",
              "      <td>46.778991</td>\n",
              "      <td>23.611207</td>\n",
              "      <td>0</td>\n",
              "      <td>5</td>\n",
              "      <td>21</td>\n",
              "      <td>9.786990e-01</td>\n",
              "      <td>0.001071</td>\n",
              "      <td>0.020230</td>\n",
              "      <td>https://live.staticflickr.com/3451/3228511372_...</td>\n",
              "      <td>0</td>\n",
              "    </tr>\n",
              "    <tr>\n",
              "      <th>1</th>\n",
              "      <td>1</td>\n",
              "      <td>2e-b5-4325164013.jpg</td>\n",
              "      <td>22489773@N02</td>\n",
              "      <td>40.445379</td>\n",
              "      <td>116.663990</td>\n",
              "      <td>2</td>\n",
              "      <td>14</td>\n",
              "      <td>201</td>\n",
              "      <td>1.687362e-02</td>\n",
              "      <td>0.366694</td>\n",
              "      <td>0.616432</td>\n",
              "      <td>https://live.staticflickr.com/4021/4325164013_...</td>\n",
              "      <td>1</td>\n",
              "    </tr>\n",
              "    <tr>\n",
              "      <th>2</th>\n",
              "      <td>2</td>\n",
              "      <td>68-42-2195251385.jpg</td>\n",
              "      <td>85976263@N00</td>\n",
              "      <td>47.469907</td>\n",
              "      <td>19.072952</td>\n",
              "      <td>0</td>\n",
              "      <td>5</td>\n",
              "      <td>250</td>\n",
              "      <td>9.645445e-01</td>\n",
              "      <td>0.000001</td>\n",
              "      <td>0.035454</td>\n",
              "      <td>https://live.staticflickr.com/2246/2195251385_...</td>\n",
              "      <td>0</td>\n",
              "    </tr>\n",
              "    <tr>\n",
              "      <th>3</th>\n",
              "      <td>3</td>\n",
              "      <td>87-7b-6786398493.jpg</td>\n",
              "      <td>70806177@N00</td>\n",
              "      <td>31.704666</td>\n",
              "      <td>35.206666</td>\n",
              "      <td>0</td>\n",
              "      <td>5</td>\n",
              "      <td>169</td>\n",
              "      <td>9.125900e-01</td>\n",
              "      <td>0.005846</td>\n",
              "      <td>0.081565</td>\n",
              "      <td>https://live.staticflickr.com/7159/6786398493_...</td>\n",
              "      <td>1</td>\n",
              "    </tr>\n",
              "    <tr>\n",
              "      <th>4</th>\n",
              "      <td>4</td>\n",
              "      <td>8b-a2-5663163551.jpg</td>\n",
              "      <td>46604778@N00</td>\n",
              "      <td>32.654696</td>\n",
              "      <td>-16.907958</td>\n",
              "      <td>2</td>\n",
              "      <td>14</td>\n",
              "      <td>268</td>\n",
              "      <td>1.941495e-01</td>\n",
              "      <td>0.118745</td>\n",
              "      <td>0.687105</td>\n",
              "      <td>https://live.staticflickr.com/5268/5663163551_...</td>\n",
              "      <td>1</td>\n",
              "    </tr>\n",
              "    <tr>\n",
              "      <th>...</th>\n",
              "      <td>...</td>\n",
              "      <td>...</td>\n",
              "      <td>...</td>\n",
              "      <td>...</td>\n",
              "      <td>...</td>\n",
              "      <td>...</td>\n",
              "      <td>...</td>\n",
              "      <td>...</td>\n",
              "      <td>...</td>\n",
              "      <td>...</td>\n",
              "      <td>...</td>\n",
              "      <td>...</td>\n",
              "      <td>...</td>\n",
              "    </tr>\n",
              "    <tr>\n",
              "      <th>22349</th>\n",
              "      <td>25595</td>\n",
              "      <td>17-76-4774603929.jpg</td>\n",
              "      <td>80547277@N00</td>\n",
              "      <td>45.484977</td>\n",
              "      <td>-123.972977</td>\n",
              "      <td>2</td>\n",
              "      <td>7</td>\n",
              "      <td>116</td>\n",
              "      <td>3.012353e-02</td>\n",
              "      <td>0.461205</td>\n",
              "      <td>0.508672</td>\n",
              "      <td>https://live.staticflickr.com/4096/4774603929_...</td>\n",
              "      <td>0</td>\n",
              "    </tr>\n",
              "    <tr>\n",
              "      <th>22350</th>\n",
              "      <td>25596</td>\n",
              "      <td>8c-76-6576441431.jpg</td>\n",
              "      <td>17373191@N00</td>\n",
              "      <td>41.765198</td>\n",
              "      <td>-74.161920</td>\n",
              "      <td>2</td>\n",
              "      <td>9</td>\n",
              "      <td>340</td>\n",
              "      <td>1.525349e-02</td>\n",
              "      <td>0.482444</td>\n",
              "      <td>0.502303</td>\n",
              "      <td>https://live.staticflickr.com/7012/6576441431_...</td>\n",
              "      <td>1</td>\n",
              "    </tr>\n",
              "    <tr>\n",
              "      <th>22351</th>\n",
              "      <td>25597</td>\n",
              "      <td>db-a5-2126931545.jpg</td>\n",
              "      <td>9456163@N05</td>\n",
              "      <td>29.422394</td>\n",
              "      <td>-98.488590</td>\n",
              "      <td>1</td>\n",
              "      <td>6</td>\n",
              "      <td>277</td>\n",
              "      <td>2.456120e-02</td>\n",
              "      <td>0.783856</td>\n",
              "      <td>0.191583</td>\n",
              "      <td>https://live.staticflickr.com/2060/2126931545_...</td>\n",
              "      <td>1</td>\n",
              "    </tr>\n",
              "    <tr>\n",
              "      <th>22352</th>\n",
              "      <td>25598</td>\n",
              "      <td>14-bf-2419255338.jpg</td>\n",
              "      <td>54177777@N00</td>\n",
              "      <td>37.563710</td>\n",
              "      <td>-122.513260</td>\n",
              "      <td>1</td>\n",
              "      <td>6</td>\n",
              "      <td>48</td>\n",
              "      <td>7.339240e-07</td>\n",
              "      <td>0.999492</td>\n",
              "      <td>0.000508</td>\n",
              "      <td>https://live.staticflickr.com/2415/2419255338_...</td>\n",
              "      <td>0</td>\n",
              "    </tr>\n",
              "    <tr>\n",
              "      <th>22353</th>\n",
              "      <td>25599</td>\n",
              "      <td>6e-64-3615351720.jpg</td>\n",
              "      <td>13542313@N00</td>\n",
              "      <td>41.501321</td>\n",
              "      <td>-81.690709</td>\n",
              "      <td>2</td>\n",
              "      <td>10</td>\n",
              "      <td>170</td>\n",
              "      <td>1.165220e-01</td>\n",
              "      <td>0.007007</td>\n",
              "      <td>0.876471</td>\n",
              "      <td>https://live.staticflickr.com/2473/3615351720_...</td>\n",
              "      <td>1</td>\n",
              "    </tr>\n",
              "  </tbody>\n",
              "</table>\n",
              "<p>22275 rows × 13 columns</p>\n",
              "</div>\n",
              "      <button class=\"colab-df-convert\" onclick=\"convertToInteractive('df-94494429-4380-4a4e-a72b-249399e365bc')\"\n",
              "              title=\"Convert this dataframe to an interactive table.\"\n",
              "              style=\"display:none;\">\n",
              "        \n",
              "  <svg xmlns=\"http://www.w3.org/2000/svg\" height=\"24px\"viewBox=\"0 0 24 24\"\n",
              "       width=\"24px\">\n",
              "    <path d=\"M0 0h24v24H0V0z\" fill=\"none\"/>\n",
              "    <path d=\"M18.56 5.44l.94 2.06.94-2.06 2.06-.94-2.06-.94-.94-2.06-.94 2.06-2.06.94zm-11 1L8.5 8.5l.94-2.06 2.06-.94-2.06-.94L8.5 2.5l-.94 2.06-2.06.94zm10 10l.94 2.06.94-2.06 2.06-.94-2.06-.94-.94-2.06-.94 2.06-2.06.94z\"/><path d=\"M17.41 7.96l-1.37-1.37c-.4-.4-.92-.59-1.43-.59-.52 0-1.04.2-1.43.59L10.3 9.45l-7.72 7.72c-.78.78-.78 2.05 0 2.83L4 21.41c.39.39.9.59 1.41.59.51 0 1.02-.2 1.41-.59l7.78-7.78 2.81-2.81c.8-.78.8-2.07 0-2.86zM5.41 20L4 18.59l7.72-7.72 1.47 1.35L5.41 20z\"/>\n",
              "  </svg>\n",
              "      </button>\n",
              "      \n",
              "  <style>\n",
              "    .colab-df-container {\n",
              "      display:flex;\n",
              "      flex-wrap:wrap;\n",
              "      gap: 12px;\n",
              "    }\n",
              "\n",
              "    .colab-df-convert {\n",
              "      background-color: #E8F0FE;\n",
              "      border: none;\n",
              "      border-radius: 50%;\n",
              "      cursor: pointer;\n",
              "      display: none;\n",
              "      fill: #1967D2;\n",
              "      height: 32px;\n",
              "      padding: 0 0 0 0;\n",
              "      width: 32px;\n",
              "    }\n",
              "\n",
              "    .colab-df-convert:hover {\n",
              "      background-color: #E2EBFA;\n",
              "      box-shadow: 0px 1px 2px rgba(60, 64, 67, 0.3), 0px 1px 3px 1px rgba(60, 64, 67, 0.15);\n",
              "      fill: #174EA6;\n",
              "    }\n",
              "\n",
              "    [theme=dark] .colab-df-convert {\n",
              "      background-color: #3B4455;\n",
              "      fill: #D2E3FC;\n",
              "    }\n",
              "\n",
              "    [theme=dark] .colab-df-convert:hover {\n",
              "      background-color: #434B5C;\n",
              "      box-shadow: 0px 1px 3px 1px rgba(0, 0, 0, 0.15);\n",
              "      filter: drop-shadow(0px 1px 2px rgba(0, 0, 0, 0.3));\n",
              "      fill: #FFFFFF;\n",
              "    }\n",
              "  </style>\n",
              "\n",
              "      <script>\n",
              "        const buttonEl =\n",
              "          document.querySelector('#df-94494429-4380-4a4e-a72b-249399e365bc button.colab-df-convert');\n",
              "        buttonEl.style.display =\n",
              "          google.colab.kernel.accessAllowed ? 'block' : 'none';\n",
              "\n",
              "        async function convertToInteractive(key) {\n",
              "          const element = document.querySelector('#df-94494429-4380-4a4e-a72b-249399e365bc');\n",
              "          const dataTable =\n",
              "            await google.colab.kernel.invokeFunction('convertToInteractive',\n",
              "                                                     [key], {});\n",
              "          if (!dataTable) return;\n",
              "\n",
              "          const docLinkHtml = 'Like what you see? Visit the ' +\n",
              "            '<a target=\"_blank\" href=https://colab.research.google.com/notebooks/data_table.ipynb>data table notebook</a>'\n",
              "            + ' to learn more about interactive tables.';\n",
              "          element.innerHTML = '';\n",
              "          dataTable['output_type'] = 'display_data';\n",
              "          await google.colab.output.renderOutput(dataTable, element);\n",
              "          const docLink = document.createElement('div');\n",
              "          docLink.innerHTML = docLinkHtml;\n",
              "          element.appendChild(docLink);\n",
              "        }\n",
              "      </script>\n",
              "    </div>\n",
              "  </div>\n",
              "  "
            ]
          },
          "metadata": {},
          "execution_count": 79
        }
      ]
    },
    {
      "cell_type": "code",
      "source": [
        "data.to_csv(\"/gdrive/MyDrive/GeoEstimation/resources/reduced_places365.csv\")"
      ],
      "metadata": {
        "id": "f86rCkIL1582"
      },
      "execution_count": 80,
      "outputs": []
    }
  ]
}